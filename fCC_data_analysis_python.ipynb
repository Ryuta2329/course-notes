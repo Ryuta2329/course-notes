{
  "nbformat": 4,
  "nbformat_minor": 0,
  "metadata": {
    "colab": {
      "name": "fCC-data-analysis-python.ipynb",
      "provenance": [],
      "collapsed_sections": [],
      "authorship_tag": "ABX9TyMZI5WfVXoDZWA8crz1b5fj",
      "include_colab_link": true
    },
    "kernelspec": {
      "name": "python3",
      "display_name": "Python 3"
    },
    "language_info": {
      "name": "python"
    }
  },
  "cells": [
    {
      "cell_type": "markdown",
      "metadata": {
        "id": "view-in-github",
        "colab_type": "text"
      },
      "source": [
        "<a href=\"https://colab.research.google.com/github/Ryuta2329/course-notes/blob/main/fCC_data_analysis_python.ipynb\" target=\"_parent\"><img src=\"https://colab.research.google.com/assets/colab-badge.svg\" alt=\"Open In Colab\"/></a>"
      ]
    },
    {
      "cell_type": "markdown",
      "source": [
        "# Data Analysis with Python Course Notes\n",
        "\n",
        "Estas son mis notas y ejercicios de codigo en _Python_ para el curso de _Data Analysis with Python_ en [freeCodeCamp](www.freecodecamp.org).\n",
        "\n",
        "---\n",
        "\n",
        "## Parte I. Usando ```NumPy```.\n",
        "\n",
        "* Es una libreria de computo numerico que acelera el procesado de grandes cantidades de datos. ```matplotlib``` y ```pandas``` funcionan implementando ```NumPy```. \n",
        "\n",
        "* Optimiza el uso de memoria para llevar a cabo calculos complejos.\n",
        "\n",
        "Permite procesar arreglos en una forma optimizada que permite hacer un mejor uso de la memoria alocada para esos arreglos y hacer uso de formas eficientes de llevar a cabo calculos matriciales que usan instrucciones de bajo nivel, lo cual hace el computo mucho mas rapido.\n",
        "\n"
      ],
      "metadata": {
        "id": "8NZsXy3utyfH"
      }
    },
    {
      "cell_type": "code",
      "execution_count": 1,
      "metadata": {
        "id": "40pvLYPgwJ72"
      },
      "outputs": [],
      "source": [
        "import numpy as np\n",
        "import sys"
      ]
    },
    {
      "cell_type": "code",
      "source": [
        "a = np.array([1, 2, 3, 4])\n",
        "b = np.array([0, .5, 1, 1.5, 2])\n",
        "c = np.arange(5)"
      ],
      "metadata": {
        "id": "XglpxdsUMb5e"
      },
      "execution_count": 2,
      "outputs": []
    },
    {
      "cell_type": "markdown",
      "source": [
        "El indexado y _slicing_ de los arreglos funciona igual que en las listas, utilizando el operador de indexar (```[]```), y la posicion o posiciones usando ```:```. Los arreglos de ```NumPy``` permiten reAlizar multiindexado, al pasar una lista de elementos, y se devuelve un arreglo."
      ],
      "metadata": {
        "id": "-ItWcXcFM-5a"
      }
    },
    {
      "cell_type": "code",
      "source": [
        "b[[1, 2, -1]] # Ejemplo de multi-indexado"
      ],
      "metadata": {
        "id": "A_BQlhK2OcRK",
        "colab": {
          "base_uri": "https://localhost:8080/"
        },
        "outputId": "9cfcc7c2-acec-48db-9265-935f59d300a5"
      },
      "execution_count": 3,
      "outputs": [
        {
          "output_type": "execute_result",
          "data": {
            "text/plain": [
              "array([0.5, 1. , 2. ])"
            ]
          },
          "metadata": {},
          "execution_count": 3
        }
      ]
    },
    {
      "cell_type": "markdown",
      "source": [
        "Se puede conocer el tipo de cada arreglo usando el atributo ```dtype```:"
      ],
      "metadata": {
        "id": "Y5NgVqj2OpvA"
      }
    },
    {
      "cell_type": "code",
      "source": [
        "a.dtype, b.dtype # Regresa una tupla con los tipo de datos almacnados por cada array\n",
        "np.array([1, 2, 3, 4], dtype=np.float64) # O puedes asignar el tipo de dato de forma manual al declarar el arreglo"
      ],
      "metadata": {
        "id": "yQFX6XmJPiv7",
        "colab": {
          "base_uri": "https://localhost:8080/"
        },
        "outputId": "b08ad66d-d4d0-46bb-a790-3109283273d5"
      },
      "execution_count": 4,
      "outputs": [
        {
          "output_type": "execute_result",
          "data": {
            "text/plain": [
              "array([1., 2., 3., 4.])"
            ]
          },
          "metadata": {},
          "execution_count": 4
        }
      ]
    },
    {
      "cell_type": "markdown",
      "source": [
        "El especificar el atributo ```dtype``` es lo que permite mejorar el desempeño en memoria ya que podrian almacenarse enteros de tipo ```int8``` que ocupan menos memoria. \n",
        "Tambien se pueden almacenar objetos regulares en arreglos pero no es para lo que se pretende usarlo, sino para alamcenar datos. \n",
        "\n",
        "También se pueden crear arreglos multidimensionales con la notación usual de lista:"
      ],
      "metadata": {
        "id": "wlGj3sATQLfT"
      }
    },
    {
      "cell_type": "code",
      "source": [
        "A = np.array([\n",
        "  [1, 2, 3], # indice de fila: 0     \n",
        "  [4, 5, 6]  # indice de fila: 1\n",
        "])"
      ],
      "metadata": {
        "id": "D3oVsVmxRGIS"
      },
      "execution_count": 5,
      "outputs": []
    },
    {
      "cell_type": "markdown",
      "source": [
        "y se puede obtener las forma (```A.shape```, el cual da una tupla ```(nrows, ncols)```), las dimensiones (```A.ndim```, el cual arroja el número de dimensiones), su tamaño (```A.size```, el número de elementos).\n",
        "\n",
        "Si las dimensiones no cuadran entonces el arreglo se guarda como un objeto regular de _Python_.\n",
        "\n",
        "El indiexado se puede hacer de forma regular (_e.g._ ```A[0][2]``` para el elemento de la primera fila y tercera columna) o usando una tupla:"
      ],
      "metadata": {
        "id": "INF69-O8RWDP"
      }
    },
    {
      "cell_type": "code",
      "source": [
        "A[0, 2] # Perimte el slicing\n",
        "A[0:2] # Selecciona todas las filas desde 0 hasta 2 (sin incluir el dos)\n",
        "A[:, :2] # Selecciona todos las filas de las columnas 0 y 1 "
      ],
      "metadata": {
        "id": "JS9cjSL7UMtN",
        "colab": {
          "base_uri": "https://localhost:8080/"
        },
        "outputId": "2f97f04f-0232-42de-c14e-6c7548275de5"
      },
      "execution_count": 6,
      "outputs": [
        {
          "output_type": "execute_result",
          "data": {
            "text/plain": [
              "array([[1, 2],\n",
              "       [4, 5]])"
            ]
          },
          "metadata": {},
          "execution_count": 6
        }
      ]
    },
    {
      "cell_type": "markdown",
      "source": [
        "```NumPy``` tiene algunos métodos disponibles para realizar estadística descriptiva: ```sum()```, ```mean()```, ```std()``` y ```var()```.\n",
        "Estas funcionan tambien en matrices, y se pueden especificar sobre que columnas o filas realizar la operacion pasando el argumento ```axis``` (0 para filas, 1 para columnas, etc.) como en ```A.mean(axis=0)```.\n",
        "\n",
        "### Operaciones vectorizadas y _broadcasting_.\n",
        "\n",
        "Las operaciones vectorizadas crean y regresan un arreglo nuevo (el arreglo original no se modifica. Aunque este comportamiento se puede modificar). \n",
        "Las versiones reducidas de los operadores escritos de la forma ```op=``` si modifican el arreglo orginal ya que se esta asignando a este la operación ```op```.\n",
        "\n",
        "La vectorización permite el indexado usando valores booleanos o expresiones lógicas (como ```a > a.mean()```) cocatenadas por operadores logicos de disjunción y conjunción. \n",
        "Esto también es llamado filtrado de valores o _query_."
      ],
      "metadata": {
        "id": "jF5d85U4WFcV"
      }
    },
    {
      "cell_type": "code",
      "source": [
        "a[a > a.mean()]"
      ],
      "metadata": {
        "colab": {
          "base_uri": "https://localhost:8080/"
        },
        "id": "GZwiPaPGMNR3",
        "outputId": "eada98be-6fff-4a98-dbe6-5b74ef583c61"
      },
      "execution_count": 7,
      "outputs": [
        {
          "output_type": "execute_result",
          "data": {
            "text/plain": [
              "array([3, 4])"
            ]
          },
          "metadata": {},
          "execution_count": 7
        }
      ]
    },
    {
      "cell_type": "markdown",
      "source": [
        "### Tamaño de objetos y manejo de memoria.\n",
        "\n",
        "En general se requiere un mayor número de bytes para almacenar objetos regulares de _Python_, que los creados usando ```NumPy```."
      ],
      "metadata": {
        "id": "P-wc8HNtNu0E"
      }
    },
    {
      "cell_type": "code",
      "source": [
        "# Un entero en Python, un long en Python\n",
        "sys.getsizeof(1), sys.getsizeof(10 ** 100)"
      ],
      "metadata": {
        "colab": {
          "base_uri": "https://localhost:8080/"
        },
        "id": "3uMVGAXOOYvj",
        "outputId": "ae44982d-6c19-4bea-9a3a-120893df3239"
      },
      "execution_count": 9,
      "outputs": [
        {
          "output_type": "execute_result",
          "data": {
            "text/plain": [
              "(28, 72)"
            ]
          },
          "metadata": {},
          "execution_count": 9
        }
      ]
    },
    {
      "cell_type": "code",
      "source": [
        "# En NumPy son mucho mas pequeños\n",
        "np.dtype(int).itemsize, np.dtype(float).itemsize"
      ],
      "metadata": {
        "colab": {
          "base_uri": "https://localhost:8080/"
        },
        "id": "p8O4zrWeOdN0",
        "outputId": "06e0415c-fa35-46cd-f5e1-9feb2b7db43f"
      },
      "execution_count": 11,
      "outputs": [
        {
          "output_type": "execute_result",
          "data": {
            "text/plain": [
              "(8, 8)"
            ]
          },
          "metadata": {},
          "execution_count": 11
        }
      ]
    },
    {
      "cell_type": "code",
      "source": [
        "# Lista regular\n",
        "sys.getsizeof([1])"
      ],
      "metadata": {
        "colab": {
          "base_uri": "https://localhost:8080/"
        },
        "id": "rlfUB-kMPF0z",
        "outputId": "db6285f0-7708-494a-915e-9d239a58b3ad"
      },
      "execution_count": 12,
      "outputs": [
        {
          "output_type": "execute_result",
          "data": {
            "text/plain": [
              "80"
            ]
          },
          "metadata": {},
          "execution_count": 12
        }
      ]
    },
    {
      "cell_type": "code",
      "source": [
        "# Y una lista en NumPy\n",
        "np.array([1]).nbytes"
      ],
      "metadata": {
        "colab": {
          "base_uri": "https://localhost:8080/"
        },
        "id": "RD9Suou-POVt",
        "outputId": "92045437-367d-49d0-fc1a-4c7fd33c5a2b"
      },
      "execution_count": 13,
      "outputs": [
        {
          "output_type": "execute_result",
          "data": {
            "text/plain": [
              "8"
            ]
          },
          "metadata": {},
          "execution_count": 13
        }
      ]
    },
    {
      "cell_type": "markdown",
      "source": [
        "También se hace bastante clara la diferencia en desempeño:"
      ],
      "metadata": {
        "id": "ROuDOZBuPr8M"
      }
    },
    {
      "cell_type": "code",
      "source": [
        "l = list(range(1000))\n",
        "a = np.arange(1000)"
      ],
      "metadata": {
        "id": "RpF83pPkP2MX"
      },
      "execution_count": 15,
      "outputs": []
    },
    {
      "cell_type": "code",
      "source": [
        "# Calculo el perfomrance de la misma operacion sobre ambos objetos.\n",
        "%time np.sum(a ** 2)"
      ],
      "metadata": {
        "colab": {
          "base_uri": "https://localhost:8080/"
        },
        "id": "0YGOteImQCye",
        "outputId": "6e2b0505-eae7-44a0-9471-b00f004dffba"
      },
      "execution_count": 16,
      "outputs": [
        {
          "output_type": "stream",
          "name": "stdout",
          "text": [
            "CPU times: user 1.49 ms, sys: 44 µs, total: 1.54 ms\n",
            "Wall time: 1.54 ms\n"
          ]
        },
        {
          "output_type": "execute_result",
          "data": {
            "text/plain": [
              "332833500"
            ]
          },
          "metadata": {},
          "execution_count": 16
        }
      ]
    },
    {
      "cell_type": "code",
      "source": [
        " %time sum([x ** 2 for x in l])"
      ],
      "metadata": {
        "colab": {
          "base_uri": "https://localhost:8080/"
        },
        "id": "JzHjGVsOQac1",
        "outputId": "72e0a671-268c-47a6-cdce-61b8d2d08703"
      },
      "execution_count": 17,
      "outputs": [
        {
          "output_type": "stream",
          "name": "stdout",
          "text": [
            "CPU times: user 461 µs, sys: 0 ns, total: 461 µs\n",
            "Wall time: 475 µs\n"
          ]
        },
        {
          "output_type": "execute_result",
          "data": {
            "text/plain": [
              "332833500"
            ]
          },
          "metadata": {},
          "execution_count": 17
        }
      ]
    },
    {
      "cell_type": "markdown",
      "source": [
        "### Funciones útiles\n",
        "\n",
        "Entre estas estan las de generar numeros aleatorios, ```arange```, ```reshape```, ```linspace```, ```zeros```, ```ones``` y ```empty```.\n",
        "\n",
        "* Funciones para generar números aleatorios:"
      ],
      "metadata": {
        "id": "bFawZ-yDQp_0"
      }
    },
    {
      "cell_type": "code",
      "source": [
        "# Genera numeros aleatorios\n",
        "np.random.random(size=2)"
      ],
      "metadata": {
        "colab": {
          "base_uri": "https://localhost:8080/"
        },
        "id": "i4FMfYBpQv-r",
        "outputId": "aafa2858-6576-4a80-9a4b-cbf31978ff63"
      },
      "execution_count": 18,
      "outputs": [
        {
          "output_type": "execute_result",
          "data": {
            "text/plain": [
              "array([0.51826869, 0.54468613])"
            ]
          },
          "metadata": {},
          "execution_count": 18
        }
      ]
    }
  ]
}